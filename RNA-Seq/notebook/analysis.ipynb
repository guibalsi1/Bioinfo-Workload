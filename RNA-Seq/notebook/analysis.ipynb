{
 "cells": [
  {
   "cell_type": "code",
   "execution_count": 30,
   "id": "c5abf758",
   "metadata": {},
   "outputs": [
    {
     "name": "stdout",
     "output_type": "stream",
     "text": [
      "Defaulting to user installation because normal site-packages is not writeable\n",
      "Requirement already satisfied: pandas in /usr/local/lib/python3.10/dist-packages (2.2.2)\n",
      "Requirement already satisfied: numpy in /usr/local/lib/python3.10/dist-packages (1.26.4)\n",
      "Requirement already satisfied: matplotlib in /home/rstudio/.local/lib/python3.10/site-packages (3.10.1)\n",
      "Requirement already satisfied: seaborn in /home/rstudio/.local/lib/python3.10/site-packages (0.13.2)\n",
      "Requirement already satisfied: scipy in /usr/local/lib/python3.10/dist-packages (1.13.0)\n",
      "Collecting statsmodels\n",
      "  Downloading statsmodels-0.14.4-cp310-cp310-manylinux_2_17_aarch64.manylinux2014_aarch64.whl.metadata (9.2 kB)\n",
      "Requirement already satisfied: python-dateutil>=2.8.2 in /usr/local/lib/python3.10/dist-packages (from pandas) (2.9.0.post0)\n",
      "Requirement already satisfied: pytz>=2020.1 in /usr/local/lib/python3.10/dist-packages (from pandas) (2024.1)\n",
      "Requirement already satisfied: tzdata>=2022.7 in /usr/local/lib/python3.10/dist-packages (from pandas) (2024.1)\n",
      "Requirement already satisfied: contourpy>=1.0.1 in /home/rstudio/.local/lib/python3.10/site-packages (from matplotlib) (1.3.1)\n",
      "Requirement already satisfied: cycler>=0.10 in /home/rstudio/.local/lib/python3.10/site-packages (from matplotlib) (0.12.1)\n",
      "Requirement already satisfied: fonttools>=4.22.0 in /home/rstudio/.local/lib/python3.10/site-packages (from matplotlib) (4.57.0)\n",
      "Requirement already satisfied: kiwisolver>=1.3.1 in /home/rstudio/.local/lib/python3.10/site-packages (from matplotlib) (1.4.8)\n",
      "Requirement already satisfied: packaging>=20.0 in /usr/local/lib/python3.10/dist-packages (from matplotlib) (24.2)\n",
      "Requirement already satisfied: pillow>=8 in /home/rstudio/.local/lib/python3.10/site-packages (from matplotlib) (11.1.0)\n",
      "Requirement already satisfied: pyparsing>=2.3.1 in /home/rstudio/.local/lib/python3.10/site-packages (from matplotlib) (3.2.3)\n",
      "Collecting patsy>=0.5.6 (from statsmodels)\n",
      "  Downloading patsy-1.0.1-py2.py3-none-any.whl.metadata (3.3 kB)\n",
      "Requirement already satisfied: six>=1.5 in /usr/local/lib/python3.10/dist-packages (from python-dateutil>=2.8.2->pandas) (1.16.0)\n",
      "Downloading statsmodels-0.14.4-cp310-cp310-manylinux_2_17_aarch64.manylinux2014_aarch64.whl (10.4 MB)\n",
      "\u001b[2K   \u001b[90m━━━━━━━━━━━━━━━━━━━━━━━━━━━━━━━━━━━━━━━━\u001b[0m \u001b[32m10.4/10.4 MB\u001b[0m \u001b[31m34.2 MB/s\u001b[0m eta \u001b[36m0:00:00\u001b[0m \u001b[36m0:00:01\u001b[0m\n",
      "\u001b[?25hDownloading patsy-1.0.1-py2.py3-none-any.whl (232 kB)\n",
      "Installing collected packages: patsy, statsmodels\n",
      "Successfully installed patsy-1.0.1 statsmodels-0.14.4\n",
      "Note: you may need to restart the kernel to use updated packages.\n"
     ]
    }
   ],
   "source": [
    "%pip install pandas numpy matplotlib seaborn scipy statsmodels"
   ]
  },
  {
   "cell_type": "code",
   "execution_count": 31,
   "id": "5098eeb6",
   "metadata": {},
   "outputs": [],
   "source": [
    "import pandas as pd\n",
    "import numpy as np\n",
    "import seaborn as sns\n",
    "import matplotlib.pyplot as plt\n",
    "from scipy.stats import ttest_ind\n",
    "from statsmodels.stats.multitest import multipletests"
   ]
  },
  {
   "cell_type": "code",
   "execution_count": 46,
   "id": "eda4e791",
   "metadata": {},
   "outputs": [],
   "source": [
    "# 1. Ler o arquivo\n",
    "data = pd.read_csv(\"GSE100522.txt\", sep=\"\\t\")\n",
    "\n",
    "# 2. Remover genes com gene_id ausente\n",
    "data = data.dropna(subset=['gene_id'])\n",
    "\n",
    "# 3. Converter gene_id para string e usar como índice\n",
    "data['gene_id'] = data['gene_id'].astype(str)\n",
    "data.set_index('gene_id', inplace=True)"
   ]
  },
  {
   "cell_type": "code",
   "execution_count": 48,
   "id": "c14f3625",
   "metadata": {},
   "outputs": [],
   "source": [
    "# Seleciona colunas de contagem + gene_short_name\n",
    "count_cols = [col for col in data.columns if col.endswith(\"_count\")]\n",
    "counts = data[[\"gene_short_name\"] + count_cols].copy()"
   ]
  },
  {
   "cell_type": "code",
   "execution_count": 49,
   "id": "b64ff27f",
   "metadata": {},
   "outputs": [
    {
     "name": "stdout",
     "output_type": "stream",
     "text": [
      "Genes após filtro: 17566\n"
     ]
    }
   ],
   "source": [
    "# 3. Filtrar genes com baixa expressão (soma total < 10)\n",
    "counts_filtered = counts[count_cols].loc[counts[count_cols].sum(axis=1) >= 10]\n",
    "print(f\"Genes após filtro: {counts_filtered.shape[0]}\")"
   ]
  },
  {
   "cell_type": "code",
   "execution_count": 50,
   "id": "c05a675f",
   "metadata": {},
   "outputs": [
    {
     "name": "stdout",
     "output_type": "stream",
     "text": [
      "Index(['71661.0', '58520.0', '66050.0', '66838.0', '66839.0'], dtype='object', name='gene_id')\n"
     ]
    }
   ],
   "source": [
    "# 4. Normalização log2(count + 1)\n",
    "log_counts = np.log2(counts_filtered + 1)\n",
    "print(log_counts.index[:5])"
   ]
  },
  {
   "cell_type": "code",
   "execution_count": 51,
   "id": "c53d33c3",
   "metadata": {},
   "outputs": [
    {
     "name": "stdout",
     "output_type": "stream",
     "text": [
      "GS group: ['GS-1_count', 'GS-2_count', 'GS-3_count']\n",
      "CK group: ['CK-1_count', 'CK-2_count', 'CK-3_count']\n"
     ]
    }
   ],
   "source": [
    "# 5. Definir grupos\n",
    "GS_group = ['GS-1_count', 'GS-2_count', 'GS-3_count']\n",
    "CK_group = ['CK-1_count', 'CK-2_count', 'CK-3_count']\n",
    "print(f\"GS group: {GS_group}\")\n",
    "print(f\"CK group: {CK_group}\")"
   ]
  },
  {
   "cell_type": "code",
   "execution_count": 52,
   "id": "99e156cf",
   "metadata": {},
   "outputs": [],
   "source": [
    "# 6. Teste t de Student gene a gene\n",
    "p_values = []\n",
    "log2_fc = []\n",
    "valid_genes = []\n",
    "\n",
    "for gene in log_counts.index:\n",
    "    gs_vals = log_counts.loc[gene, GS_group]\n",
    "    ck_vals = log_counts.loc[gene, CK_group]\n",
    "\n",
    "    # Garante que são Series\n",
    "    gs_vals = pd.Series(gs_vals)\n",
    "    ck_vals = pd.Series(ck_vals)\n",
    "\n",
    "    # Verifica NaNs\n",
    "    if gs_vals.isnull().any() or ck_vals.isnull().any():\n",
    "        continue\n",
    "\n",
    "    # Verifica se todos os valores são iguais\n",
    "    if gs_vals.nunique() <= 1 and ck_vals.nunique() <= 1:\n",
    "        continue\n",
    "\n",
    "    # Teste t com conversão para arrays\n",
    "    t_stat, p = ttest_ind(gs_vals.values, ck_vals.values, equal_var=False)\n",
    "    p_values.append(p)\n",
    "    log2_fc.append(gs_vals.mean() - ck_vals.mean())\n",
    "    valid_genes.append(gene)"
   ]
  },
  {
   "cell_type": "code",
   "execution_count": 53,
   "id": "6b16e25a",
   "metadata": {},
   "outputs": [],
   "source": [
    "# Garantir que estamos trabalhando apenas com genes válidos\n",
    "results = pd.DataFrame({\n",
    "    \"gene_short_name\": counts.loc[valid_genes, \"gene_short_name\"],\n",
    "    \"log2_FC\": log2_fc,\n",
    "    \"p_value\": p_values\n",
    "}, index=valid_genes)\n",
    "\n",
    "# Corrigir p-valor\n",
    "rejected, pvals_corrected, _, _ = multipletests(results[\"p_value\"], method='fdr_bh')\n",
    "results[\"FDR\"] = pvals_corrected"
   ]
  },
  {
   "cell_type": "code",
   "execution_count": 54,
   "id": "9bd04e75",
   "metadata": {},
   "outputs": [],
   "source": [
    "# 7. Corrigir p-valor (FDR)\n",
    "rejected, pvals_corrected, _, _ = multipletests(p_values, method='fdr_bh')"
   ]
  },
  {
   "cell_type": "code",
   "execution_count": 55,
   "id": "c1c4c11f",
   "metadata": {},
   "outputs": [],
   "source": [
    "# 8. Criar tabela de resultados\n",
    "results = pd.DataFrame({\n",
    "    \"gene_short_name\": counts[\"gene_short_name\"],\n",
    "    \"log2_FC\": log2_fc,\n",
    "    \"p_value\": p_values,\n",
    "    \"FDR\": pvals_corrected\n",
    "}, index=log_counts.index)"
   ]
  },
  {
   "cell_type": "code",
   "execution_count": 56,
   "id": "49e407f2",
   "metadata": {},
   "outputs": [
    {
     "name": "stdout",
     "output_type": "stream",
     "text": [
      "Número de genes diferencialmente expressos (FDR < 0.05): 0\n"
     ]
    }
   ],
   "source": [
    "# 9. Exportar genes significativos\n",
    "significant_genes = results[results[\"FDR\"] < 0.05]\n",
    "print(f\"Número de genes diferencialmente expressos (FDR < 0.05): {significant_genes.shape[0]}\")\n",
    "significant_genes.to_csv(\"genes_diferenciais.csv\")"
   ]
  },
  {
   "cell_type": "code",
   "execution_count": 57,
   "id": "0c391fa0",
   "metadata": {},
   "outputs": [
    {
     "data": {
      "image/png": "[encoded data removed]",
      "text/plain": [
       "<Figure size 1000x600 with 1 Axes>"
      ]
     },
     "metadata": {},
     "output_type": "display_data"
    }
   ],
   "source": [
    "# 10. Plot Volcano\n",
    "plt.figure(figsize=(10,6))\n",
    "sns.scatterplot(data=results, x=\"log2_FC\", y=-np.log10(results[\"FDR\"]), hue=(results[\"FDR\"] < 0.05), palette={True: 'red', False: 'gray'})\n",
    "plt.axhline(-np.log10(0.05), color='blue', linestyle='--')\n",
    "plt.title(\"Volcano plot\")\n",
    "plt.xlabel(\"log2 Fold Change\")\n",
    "plt.ylabel(\"-log10(FDR)\")\n",
    "plt.legend(title=\"Significativo (FDR < 0.05)\")\n",
    "plt.tight_layout()\n",
    "plt.savefig(\"volcano_plot.png\")\n",
    "plt.show()"
   ]
  }
 ],
 "metadata": {
  "kernelspec": {
   "display_name": "Python 3",
   "language": "python",
   "name": "python3"
  },
  "language_info": {
   "codemirror_mode": {
    "name": "ipython",
    "version": 3
   },
   "file_extension": ".py",
   "mimetype": "text/x-python",
   "name": "python",
   "nbconvert_exporter": "python",
   "pygments_lexer": "ipython3",
   "version": "3.10.12"
  }
 },
 "nbformat": 4,
 "nbformat_minor": 5
}
